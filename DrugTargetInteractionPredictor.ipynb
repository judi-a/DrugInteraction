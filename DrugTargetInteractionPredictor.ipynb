{
 "cells": [
  {
   "cell_type": "code",
   "execution_count": 74,
   "id": "a764764f",
   "metadata": {},
   "outputs": [],
   "source": [
    "from DeepPurpose.utils import *\n",
    "from DeepPurpose.dataset import *\n",
    "from DeepPurpose import utils, dataset\n",
    "from DeepPurpose import DTI as models\n",
    "import warnings\n",
    "warnings.filterwarnings(\"ignore\")\n",
    "import sklearn as sk"
   ]
  },
  {
   "cell_type": "markdown",
   "id": "b6d1c857",
   "metadata": {},
   "source": [
    "# Training a Drug Target Interaction model using Davis dataset\n"
   ]
  },
  {
   "cell_type": "code",
   "execution_count": 64,
   "id": "5f60ba28",
   "metadata": {},
   "outputs": [
    {
     "name": "stdout",
     "output_type": "stream",
     "text": [
      "Beginning Processing...\n",
      "100% [............................................................................] 179878 / 179878Beginning to extract zip file...\n",
      "Default set to logspace (nM -> p) for easier regression\n",
      "Done!\n",
      "Drug 1: CC1=C2C=C(C=CC2=NN1)C3=CC(=CN=C3)OCC(CC4=CC=CC=C4)N\n",
      "Target 1: MKKFFDSRREQGGSGLGSGSSGGGGSTSGLGSGYIGRVFGIGRQQVTVDEVLAEGGFAIVFLVRTSNGMKCALKRMFVNNEHDLQVCKREIQIMRDLSGHKNIVGYIDSSINNVSSGDVWEVLILMDFCRGGQVVNLMNQRLQTGFTENEVLQIFCDTCEAVARLHQCKTPIIHRDLKVENILLHDRGHYVLCDFGSATNKFQNPQTEGVNAVEDEIKKYTTLSYRAPEMVNLYSGKIITTKADIWALGCLLYKLCYFTLPFGESQVAICDGNFTIPDNSRYSQDMHCLIRYMLEPDPDKRPDIYQVSYFSFKLLKKECPIPNVQNSPIPAKLPEPVKASEAAAKKTQPKARLTDPIPTTETSIAPRQRPKAGQTQPNPGILPIQPALTPRKRATVQPPPQAAGSSNQPGLLASVPQPKPQAPPSQPLPQTQAKQPQAPPTPQQTPSTQAQGLPAQAQATPQHQQQLFLKQQQQQQQPPPAQQQPAGTFYQQQQAQTQQFQAVHPATQKPAIAQFPVVSQGGSQQQLMQNFYQQQQQQQQQQQQQQLATALHQQQLMTQQAALQQKPTMAAGQQPQPQPAAAPQPAPAQEPAIQAPVRQQPKVQTTPPPAVQGQKVGSLTPPSSPKTQRAGHRRILSDVTHSAVFGVPASKSTQLLQAAAAEASLNKSKSATTTPSGSPRTSQQNVYNPSEGSTWNPFDDDNFSKLTAEELLNKDFAKLGEGKHPEKLGGSAESLIPGFQSTQGDAFATTSFSAGTAEKRKGGQTVDSGLPLLSVSDPFIPLQVPDAPEKLIEGLKSPDTSLLLPDLLPMTDPFGSTSDAVIEKADVAVESLIPGLEPPVPQRLPSQTESVTSNRTDSLTGEDSLLDCSLLSNPTTDLLEEFAPTAISAPVHKAAEDSNLISGFDVPEGSDKVAEDEFDPIPVLITKNPQGGHSRNSSGSSESSLPNLARSLLLVDQLIDL\n",
      "Score 1: 7.366531544420414\n"
     ]
    }
   ],
   "source": [
    "X_drugs, X_targets, y = dataset.load_process_DAVIS(path = './data', binary = False, convert_to_log = True, threshold = 30)\n",
    "print('Drug 1: ' + X_drugs[0])\n",
    "print('Target 1: ' + X_targets[0])\n",
    "print('Score 1: ' + str(y[0]))"
   ]
  },
  {
   "cell_type": "code",
   "execution_count": 65,
   "id": "3805dbe1",
   "metadata": {},
   "outputs": [],
   "source": [
    "drug_encoding, target_encoding = 'MPNN', 'CNN'"
   ]
  },
  {
   "cell_type": "code",
   "execution_count": 80,
   "id": "ed5708bf",
   "metadata": {},
   "outputs": [
    {
     "name": "stdout",
     "output_type": "stream",
     "text": [
      "Drug Target Interaction Prediction Mode...\n",
      "in total: 30056 drug-target pairs\n",
      "encoding drug...\n",
      "unique drugs: 68\n",
      "encoding protein...\n",
      "unique target sequence: 379\n",
      "splitting dataset...\n",
      "Done.\n"
     ]
    },
    {
     "data": {
      "text/html": [
       "<div>\n",
       "<style scoped>\n",
       "    .dataframe tbody tr th:only-of-type {\n",
       "        vertical-align: middle;\n",
       "    }\n",
       "\n",
       "    .dataframe tbody tr th {\n",
       "        vertical-align: top;\n",
       "    }\n",
       "\n",
       "    .dataframe thead th {\n",
       "        text-align: right;\n",
       "    }\n",
       "</style>\n",
       "<table border=\"1\" class=\"dataframe\">\n",
       "  <thead>\n",
       "    <tr style=\"text-align: right;\">\n",
       "      <th></th>\n",
       "      <th>SMILES</th>\n",
       "      <th>Target Sequence</th>\n",
       "      <th>Label</th>\n",
       "      <th>drug_encoding</th>\n",
       "      <th>target_encoding</th>\n",
       "    </tr>\n",
       "  </thead>\n",
       "  <tbody>\n",
       "    <tr>\n",
       "      <th>0</th>\n",
       "      <td>CC1=C2C=C(C=CC2=NN1)C3=CC(=CN=C3)OCC(CC4=CC=CC...</td>\n",
       "      <td>PFWKILNPLLERGTYYYFMGQQPGKVLGDQRRPSLPALHFIKGAGK...</td>\n",
       "      <td>5.0</td>\n",
       "      <td>[[[tensor(1.), tensor(0.), tensor(0.), tensor(...</td>\n",
       "      <td>[P, F, W, K, I, L, N, P, L, L, E, R, G, T, Y, ...</td>\n",
       "    </tr>\n",
       "    <tr>\n",
       "      <th>1</th>\n",
       "      <td>CC1=C2C=C(C=CC2=NN1)C3=CC(=CN=C3)OCC(CC4=CC=CC...</td>\n",
       "      <td>PFWKILNPLLERGTYYYFMGQQPGKVLGDQRRPSLPALHFIKGAGK...</td>\n",
       "      <td>5.0</td>\n",
       "      <td>[[[tensor(1.), tensor(0.), tensor(0.), tensor(...</td>\n",
       "      <td>[P, F, W, K, I, L, N, P, L, L, E, R, G, T, Y, ...</td>\n",
       "    </tr>\n",
       "    <tr>\n",
       "      <th>2</th>\n",
       "      <td>CC1=C2C=C(C=CC2=NN1)C3=CC(=CN=C3)OCC(CC4=CC=CC...</td>\n",
       "      <td>PFWKILNPLLERGTYYYFMGQQPGKVLGDQRRPSLPALHFIKGAGK...</td>\n",
       "      <td>5.0</td>\n",
       "      <td>[[[tensor(1.), tensor(0.), tensor(0.), tensor(...</td>\n",
       "      <td>[P, F, W, K, I, L, N, P, L, L, E, R, G, T, Y, ...</td>\n",
       "    </tr>\n",
       "    <tr>\n",
       "      <th>3</th>\n",
       "      <td>CC1=C2C=C(C=CC2=NN1)C3=CC(=CN=C3)OCC(CC4=CC=CC...</td>\n",
       "      <td>PFWKILNPLLERGTYYYFMGQQPGKVLGDQRRPSLPALHFIKGAGK...</td>\n",
       "      <td>5.0</td>\n",
       "      <td>[[[tensor(1.), tensor(0.), tensor(0.), tensor(...</td>\n",
       "      <td>[P, F, W, K, I, L, N, P, L, L, E, R, G, T, Y, ...</td>\n",
       "    </tr>\n",
       "    <tr>\n",
       "      <th>4</th>\n",
       "      <td>CC1=C2C=C(C=CC2=NN1)C3=CC(=CN=C3)OCC(CC4=CC=CC...</td>\n",
       "      <td>PFWKILNPLLERGTYYYFMGQQPGKVLGDQRRPSLPALHFIKGAGK...</td>\n",
       "      <td>5.0</td>\n",
       "      <td>[[[tensor(1.), tensor(0.), tensor(0.), tensor(...</td>\n",
       "      <td>[P, F, W, K, I, L, N, P, L, L, E, R, G, T, Y, ...</td>\n",
       "    </tr>\n",
       "  </tbody>\n",
       "</table>\n",
       "</div>"
      ],
      "text/plain": [
       "                                              SMILES  \\\n",
       "0  CC1=C2C=C(C=CC2=NN1)C3=CC(=CN=C3)OCC(CC4=CC=CC...   \n",
       "1  CC1=C2C=C(C=CC2=NN1)C3=CC(=CN=C3)OCC(CC4=CC=CC...   \n",
       "2  CC1=C2C=C(C=CC2=NN1)C3=CC(=CN=C3)OCC(CC4=CC=CC...   \n",
       "3  CC1=C2C=C(C=CC2=NN1)C3=CC(=CN=C3)OCC(CC4=CC=CC...   \n",
       "4  CC1=C2C=C(C=CC2=NN1)C3=CC(=CN=C3)OCC(CC4=CC=CC...   \n",
       "\n",
       "                                     Target Sequence  Label  \\\n",
       "0  PFWKILNPLLERGTYYYFMGQQPGKVLGDQRRPSLPALHFIKGAGK...    5.0   \n",
       "1  PFWKILNPLLERGTYYYFMGQQPGKVLGDQRRPSLPALHFIKGAGK...    5.0   \n",
       "2  PFWKILNPLLERGTYYYFMGQQPGKVLGDQRRPSLPALHFIKGAGK...    5.0   \n",
       "3  PFWKILNPLLERGTYYYFMGQQPGKVLGDQRRPSLPALHFIKGAGK...    5.0   \n",
       "4  PFWKILNPLLERGTYYYFMGQQPGKVLGDQRRPSLPALHFIKGAGK...    5.0   \n",
       "\n",
       "                                       drug_encoding  \\\n",
       "0  [[[tensor(1.), tensor(0.), tensor(0.), tensor(...   \n",
       "1  [[[tensor(1.), tensor(0.), tensor(0.), tensor(...   \n",
       "2  [[[tensor(1.), tensor(0.), tensor(0.), tensor(...   \n",
       "3  [[[tensor(1.), tensor(0.), tensor(0.), tensor(...   \n",
       "4  [[[tensor(1.), tensor(0.), tensor(0.), tensor(...   \n",
       "\n",
       "                                     target_encoding  \n",
       "0  [P, F, W, K, I, L, N, P, L, L, E, R, G, T, Y, ...  \n",
       "1  [P, F, W, K, I, L, N, P, L, L, E, R, G, T, Y, ...  \n",
       "2  [P, F, W, K, I, L, N, P, L, L, E, R, G, T, Y, ...  \n",
       "3  [P, F, W, K, I, L, N, P, L, L, E, R, G, T, Y, ...  \n",
       "4  [P, F, W, K, I, L, N, P, L, L, E, R, G, T, Y, ...  "
      ]
     },
     "execution_count": 80,
     "metadata": {},
     "output_type": "execute_result"
    }
   ],
   "source": [
    "#split data into training, validation and testing\n",
    "train, val, test = utils.data_process(X_drugs, X_targets, y, \n",
    "                                drug_encoding, target_encoding, \n",
    "                                split_method='random',frac=[0.7,0.1,0.2],\n",
    "                                random_seed = 1)\n",
    "train.head(5)"
   ]
  },
  {
   "cell_type": "code",
   "execution_count": 67,
   "id": "fde653bc",
   "metadata": {},
   "outputs": [],
   "source": [
    "#initialize model configurations\n",
    "config = utils.generate_config(drug_encoding = drug_encoding, \n",
    "                         target_encoding = target_encoding, \n",
    "                         cls_hidden_dims = [1024,1024,512], \n",
    "                         train_epoch = 5, \n",
    "                         LR = 0.001, \n",
    "                         batch_size = 128,\n",
    "                         hidden_dim_drug = 128,\n",
    "                         mpnn_hidden_size = 128,\n",
    "                         mpnn_depth = 3, \n",
    "                         cnn_target_filters = [32,64,96],\n",
    "                         cnn_target_kernels = [4,8,12]\n",
    "                        )\n",
    "model = models.model_initialize(**config)\n"
   ]
  },
  {
   "cell_type": "code",
   "execution_count": 68,
   "id": "e571feba",
   "metadata": {},
   "outputs": [
    {
     "name": "stdout",
     "output_type": "stream",
     "text": [
      "Let's use CPU/s!\n",
      "--- Data Preparation ---\n",
      "--- Go for Training ---\n",
      "Training at Epoch 1 iteration 0 with loss 30.5942. Total time 0.00055 hours\n",
      "Training at Epoch 1 iteration 100 with loss 0.76280. Total time 0.04944 hours\n",
      "Validation at Epoch 1 with loss:0.87926, MSE: 0.85192 , Pearson Correlation: 0.05838 with p-value: 1.36E-03 , Concordance Index: 0.55401\n",
      "Training at Epoch 2 iteration 0 with loss 0.68702. Total time 0.08527 hours\n",
      "Training at Epoch 2 iteration 100 with loss 0.58151. Total time 0.13305 hours\n",
      "Validation at Epoch 2 with loss:0.97399, MSE: 0.73043 , Pearson Correlation: 0.33714 with p-value: 8.39E-81 , Concordance Index: 0.67201\n",
      "Training at Epoch 3 iteration 0 with loss 1.08591. Total time 0.16916 hours\n",
      "Training at Epoch 3 iteration 100 with loss 0.75681. Total time 0.21583 hours\n",
      "Validation at Epoch 3 with loss:0.39150, MSE: 0.76639 , Pearson Correlation: 0.38416 with p-value: 2.62E-106 , Concordance Index: 0.69629\n",
      "Training at Epoch 4 iteration 0 with loss 0.67176. Total time 0.25027 hours\n",
      "Training at Epoch 4 iteration 100 with loss 0.49297. Total time 0.29638 hours\n",
      "Validation at Epoch 4 with loss:1.06617, MSE: 0.69258 , Pearson Correlation: 0.39757 with p-value: 2.13E-114 , Concordance Index: 0.71291\n",
      "Training at Epoch 5 iteration 0 with loss 0.70339. Total time 0.33 hours\n",
      "Training at Epoch 5 iteration 100 with loss 0.58125. Total time 0.37638 hours\n",
      "Validation at Epoch 5 with loss:0.45292, MSE: 0.72742 , Pearson Correlation: 0.40607 with p-value: 1.02E-119 , Concordance Index: 0.71895\n",
      "--- Go for Testing ---\n",
      "Testing MSE: 0.7120917918900456 , Pearson Correlation: 0.3605664073694186 with p-value: 5.35E-184 , Concordance Index: 0.6965920324370768\n",
      "--- Training Finished ---\n"
     ]
    },
    {
     "data": {
      "image/png": "[encoded data removed]",
      "text/plain": [
       "<Figure size 640x480 with 1 Axes>"
      ]
     },
     "metadata": {},
     "output_type": "display_data"
    }
   ],
   "source": [
    "#model training\n",
    "model.train(train, val, test)"
   ]
  },
  {
   "cell_type": "code",
   "execution_count": 96,
   "id": "b93b9fca",
   "metadata": {},
   "outputs": [],
   "source": [
    "model.save_model('models/my_trained_model')"
   ]
  },
  {
   "cell_type": "code",
   "execution_count": 83,
   "id": "31690e45",
   "metadata": {},
   "outputs": [
    {
     "name": "stdout",
     "output_type": "stream",
     "text": [
      "predicting...\n"
     ]
    }
   ],
   "source": [
    "#model testing\n",
    "y_pred_1 = model.predict(test)"
   ]
  },
  {
   "cell_type": "code",
   "execution_count": 94,
   "id": "5cf92797",
   "metadata": {},
   "outputs": [
    {
     "data": {
      "text/plain": [
       "1    5.000000\n",
       "2    5.000000\n",
       "3    6.244125\n",
       "4    8.060481\n",
       "5    5.000000\n",
       "6    5.000000\n",
       "7    6.920819\n",
       "8    5.000000\n",
       "9    6.602060\n",
       "Name: Label, dtype: float64"
      ]
     },
     "execution_count": 94,
     "metadata": {},
     "output_type": "execute_result"
    }
   ],
   "source": [
    "test['Label'][1:10]"
   ]
  },
  {
   "cell_type": "code",
   "execution_count": 84,
   "id": "c1c6b0a5",
   "metadata": {},
   "outputs": [
    {
     "data": {
      "text/plain": [
       "[5.272134780883789,\n",
       " 5.212078094482422,\n",
       " 5.303801536560059,\n",
       " 5.828512191772461,\n",
       " 5.362523078918457,\n",
       " 5.500299453735352,\n",
       " 5.760557174682617,\n",
       " 5.125918388366699,\n",
       " 5.441217422485352]"
      ]
     },
     "execution_count": 84,
     "metadata": {},
     "output_type": "execute_result"
    }
   ],
   "source": [
    "y_pred_1[1:10]"
   ]
  },
  {
   "cell_type": "markdown",
   "id": "6a22f194",
   "metadata": {},
   "source": [
    "# Testing with pretrained model on the BindingDB dataset"
   ]
  },
  {
   "cell_type": "code",
   "execution_count": 85,
   "id": "17bdbab2",
   "metadata": {},
   "outputs": [],
   "source": [
    "#load pretrained model on BindingDB\n",
    "model2 = models.model_pretrained('models/model_MPNN_CNN/')\n"
   ]
  },
  {
   "cell_type": "code",
   "execution_count": 86,
   "id": "147bf389",
   "metadata": {},
   "outputs": [
    {
     "name": "stdout",
     "output_type": "stream",
     "text": [
      "predicting...\n"
     ]
    }
   ],
   "source": [
    "#model testing\n",
    "y_pred_2 = model2.predict(test)"
   ]
  },
  {
   "cell_type": "code",
   "execution_count": 87,
   "id": "8626b941",
   "metadata": {},
   "outputs": [
    {
     "data": {
      "text/plain": [
       "[2.485642433166504,\n",
       " 8.05942153930664,\n",
       " 2.3771371841430664,\n",
       " 5.645474910736084,\n",
       " 5.416153430938721,\n",
       " 7.337442874908447,\n",
       " 8.084798812866211,\n",
       " 6.097911357879639,\n",
       " 5.452602863311768]"
      ]
     },
     "execution_count": 87,
     "metadata": {},
     "output_type": "execute_result"
    }
   ],
   "source": [
    "y_pred_2[1:10]"
   ]
  },
  {
   "cell_type": "markdown",
   "id": "c727e616",
   "metadata": {},
   "source": [
    "# Compare the two results vs original labels"
   ]
  },
  {
   "cell_type": "code",
   "execution_count": 91,
   "id": "bfc42523",
   "metadata": {},
   "outputs": [
    {
     "name": "stdout",
     "output_type": "stream",
     "text": [
      "The mean square error for test set using the current trained model  is 0.7120917918900456\n"
     ]
    }
   ],
   "source": [
    "#Calculate mean squared error regression loss.\n",
    "\n",
    "mse1 = sk.metrics.mean_squared_error(test['Label'], y_pred_1)\n",
    "print('The mean square error for test set using the current trained model  is ' + str(mse1))"
   ]
  },
  {
   "cell_type": "code",
   "execution_count": 90,
   "id": "3166ade3",
   "metadata": {},
   "outputs": [
    {
     "name": "stdout",
     "output_type": "stream",
     "text": [
      "The mean square error for test set using the pretrained model is 4.844607623157411\n"
     ]
    }
   ],
   "source": [
    "mse2 = sk.metrics.mean_squared_error(test['Label'], y_pred_2)\n",
    "print('The mean square error for test set using the pretrained model is ' + str(mse2))"
   ]
  },
  {
   "cell_type": "code",
   "execution_count": 99,
   "id": "f6e464f0",
   "metadata": {},
   "outputs": [
    {
     "name": "stdout",
     "output_type": "stream",
     "text": [
      "The model that is trained performs better\n"
     ]
    }
   ],
   "source": [
    "if mse1<mse2:\n",
    "    print(\"The model that is trained performs better\")\n",
    "else:\n",
    "    print(\"The pretrained model performs better\")\n",
    "    "
   ]
  },
  {
   "cell_type": "code",
   "execution_count": null,
   "id": "3415c4ab",
   "metadata": {},
   "outputs": [],
   "source": []
  },
  {
   "cell_type": "code",
   "execution_count": null,
   "id": "2e149295",
   "metadata": {},
   "outputs": [],
   "source": []
  },
  {
   "cell_type": "code",
   "execution_count": null,
   "id": "9c2572cc",
   "metadata": {},
   "outputs": [],
   "source": []
  }
 ],
 "metadata": {
  "kernelspec": {
   "display_name": "Python 3 (ipykernel)",
   "language": "python",
   "name": "python3"
  },
  "language_info": {
   "codemirror_mode": {
    "name": "ipython",
    "version": 3
   },
   "file_extension": ".py",
   "mimetype": "text/x-python",
   "name": "python",
   "nbconvert_exporter": "python",
   "pygments_lexer": "ipython3",
   "version": "3.7.12"
  }
 },
 "nbformat": 4,
 "nbformat_minor": 5
}
